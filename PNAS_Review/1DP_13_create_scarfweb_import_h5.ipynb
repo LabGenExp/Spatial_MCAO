{
 "cells": [
  {
   "cell_type": "code",
   "execution_count": 1,
   "id": "f6e0ca98-74f5-4cbd-af8f-4f75358cb877",
   "metadata": {},
   "outputs": [],
   "source": [
    "import h5py\n",
    "from scipy.io import mmread\n",
    "from scipy.sparse import csr_matrix\n",
    "import pandas as pd\n",
    "import numpy as np"
   ]
  },
  {
   "cell_type": "code",
   "execution_count": 2,
   "id": "923ae2cb-a72f-420d-8bc6-7c667c84a964",
   "metadata": {},
   "outputs": [],
   "source": [
    "in_file = csr_matrix(mmread(\"matrix.mtx\").T)"
   ]
  },
  {
   "cell_type": "code",
   "execution_count": 3,
   "id": "f9ce3a9a-c938-4c95-8468-64a177fda469",
   "metadata": {},
   "outputs": [
    {
     "data": {
      "text/plain": [
       "(10173,)"
      ]
     },
     "execution_count": 3,
     "metadata": {},
     "output_type": "execute_result"
    }
   ],
   "source": [
    "barcodes = pd.read_csv('barcodes.csv')['x'].values\n",
    "barcodes.shape"
   ]
  },
  {
   "cell_type": "code",
   "execution_count": 4,
   "id": "b26ff71d-6d16-4cd2-810e-33e86dcf65d2",
   "metadata": {},
   "outputs": [
    {
     "data": {
      "text/plain": [
       "(32285,)"
      ]
     },
     "execution_count": 4,
     "metadata": {},
     "output_type": "execute_result"
    }
   ],
   "source": [
    "features = pd.read_csv('features.csv')['x'].values\n",
    "features.shape"
   ]
  },
  {
   "cell_type": "code",
   "execution_count": 5,
   "id": "bc423400-be18-4ef8-8ff5-5ad7dafa722f",
   "metadata": {},
   "outputs": [],
   "source": [
    "assert in_file.shape == (barcodes.shape[0], features.shape[0])"
   ]
  },
  {
   "cell_type": "code",
   "execution_count": 6,
   "id": "2842e39e-784b-41c9-b380-c3b3b18bef35",
   "metadata": {},
   "outputs": [],
   "source": [
    "out = h5py.File(\"filtered_feature_matrix.h5\", mode='w')"
   ]
  },
  {
   "cell_type": "code",
   "execution_count": 7,
   "id": "2e27916d-43be-4996-9d5e-8e35a15efd9d",
   "metadata": {},
   "outputs": [],
   "source": [
    "g = out.create_group(\"matrix\")"
   ]
  },
  {
   "cell_type": "code",
   "execution_count": 8,
   "id": "41bd6778-72a6-46e3-ac5a-c9184c734c41",
   "metadata": {},
   "outputs": [],
   "source": [
    "g.create_dataset(\"shape\", data=(features.shape[0], barcodes.shape[0]))\n",
    "g.create_dataset(\"barcodes\", data=barcodes.astype(object), compression=\"gzip\")\n",
    "g.create_dataset(\"indptr\", data=in_file.indptr, compression=\"gzip\")\n",
    "g.create_dataset(\"indices\", data=in_file.indices, compression=\"gzip\")\n",
    "g.create_dataset(\"data\", data=in_file.data, compression=\"gzip\")\n",
    "g.create_dataset(\"features/id\", data=features.astype(object), compression=\"gzip\")\n",
    "g.create_dataset(\"features/name\", data=features.astype(object), compression=\"gzip\")\n",
    "g.create_dataset(\"features/feature_type\", data=np.array([\"RNA\" for x in range(len(features))]).astype(object), compression=\"gzip\")\n",
    "\n",
    "out.close()"
   ]
  }
 ],
 "metadata": {
  "kernelspec": {
   "display_name": "Python 3 (ipykernel)",
   "language": "python",
   "name": "python3"
  },
  "language_info": {
   "codemirror_mode": {
    "name": "ipython",
    "version": 3
   },
   "file_extension": ".py",
   "mimetype": "text/x-python",
   "name": "python",
   "nbconvert_exporter": "python",
   "pygments_lexer": "ipython3",
   "version": "3.8.12"
  }
 },
 "nbformat": 4,
 "nbformat_minor": 5
}
